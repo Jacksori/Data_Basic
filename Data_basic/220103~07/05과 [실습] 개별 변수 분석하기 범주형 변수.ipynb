{
 "cells": [
  {
   "cell_type": "markdown",
   "id": "38be3546",
   "metadata": {
    "id": "38be3546"
   },
   "source": [
    "# chapter 5. 개별 변수 분석하기 범주형 변수"
   ]
  },
  {
   "cell_type": "markdown",
   "id": "d24346e0",
   "metadata": {
    "id": "d24346e0"
   },
   "source": [
    "## 1) 범주형 변수의 기초 통계량"
   ]
  },
  {
   "cell_type": "markdown",
   "id": "20d7da79",
   "metadata": {
    "id": "20d7da79"
   },
   "source": [
    "① 성별 데이터가 아래와 같을 때, count를 이용하여 범주별 빈도수와 비율을 확인하시오.\n",
    "* gender = ['F','M','F','F','F','M','F','M','M']\n",
    "* 비율 = 범주별 빈도 / 전체 개수"
   ]
  },
  {
   "cell_type": "code",
   "execution_count": 1,
   "id": "cc75a2a8",
   "metadata": {
    "id": "cc75a2a8",
    "outputId": "fabc1323-a882-4892-b6e4-5d23441c45e2"
   },
   "outputs": [
    {
     "name": "stdout",
     "output_type": "stream",
     "text": [
      "F 5 0.5555555555555556\n",
      "M 4 0.4444444444444444\n"
     ]
    }
   ],
   "source": [
    "gender = ['F','M','F','F','F','M','F','M','M']\n",
    "\n",
    "f_cnt = gender.count('F')\n",
    "m_cnt = gender.count('M')\n",
    "total_cnt = len(gender)\n",
    "\n",
    "print('F', f_cnt, f_cnt/total_cnt)\n",
    "print('M', m_cnt, m_cnt/total_cnt)"
   ]
  },
  {
   "cell_type": "markdown",
   "id": "32dcbfe8",
   "metadata": {
    "id": "32dcbfe8"
   },
   "source": [
    "② 이번에는 pandas의 .value_counts()를 이용하여 범주별 빈도수와 비율을 구해 봅시다.\n",
    "* gender = ['F','M','F','F','F','M','F','M','M']"
   ]
  },
  {
   "cell_type": "code",
   "execution_count": 3,
   "id": "753e92ff",
   "metadata": {
    "id": "753e92ff",
    "outputId": "67af4417-1b99-47ce-9473-1cd6d929d274"
   },
   "outputs": [
    {
     "data": {
      "text/plain": [
       "F    5\n",
       "M    4\n",
       "dtype: int64"
      ]
     },
     "execution_count": 3,
     "metadata": {},
     "output_type": "execute_result"
    }
   ],
   "source": [
    "import pandas as pd\n",
    "\n",
    "gender = ['F','M','F','F','F','M','F','M','M']\n",
    "gender = pd.Series(gender)\n",
    "\n",
    "gender.value_counts()"
   ]
  },
  {
   "cell_type": "markdown",
   "id": "c9c7338e",
   "metadata": {
    "id": "c9c7338e"
   },
   "source": [
    "③ 고객 선호 색상 데이터가 아래와 같을 때, 범주별 빈도수와 비율을 구해 봅시다.\n",
    "* color = ['red','red', 'blue', 'green', 'green', 'red', 'blue', 'blue', 'red', 'green', 'red', 'blue']"
   ]
  },
  {
   "cell_type": "code",
   "execution_count": 4,
   "id": "482044dc",
   "metadata": {
    "id": "482044dc",
    "outputId": "fec9d71f-ab13-4ac2-d03a-273e4fbd3fec"
   },
   "outputs": [
    {
     "name": "stdout",
     "output_type": "stream",
     "text": [
      "red      5\n",
      "blue     4\n",
      "green    3\n",
      "dtype: int64\n",
      "red      0.416667\n",
      "blue     0.333333\n",
      "green    0.250000\n",
      "dtype: float64\n"
     ]
    }
   ],
   "source": [
    "import pandas as pd\n",
    "\n",
    "color = ['red','red', 'blue', 'green', 'green', 'red', 'blue', 'blue', 'red', 'green', 'red', 'blue']\n",
    "\n",
    "color = pd.Series(color)\n",
    "print(color.value_counts())\n",
    "print(color.value_counts()/len(color))\n"
   ]
  },
  {
   "cell_type": "markdown",
   "id": "4ec2acf5",
   "metadata": {
    "id": "4ec2acf5"
   },
   "source": [
    "## 2) 데이터 프레임으로부터 범주형 변수 기초통계량"
   ]
  },
  {
   "cell_type": "markdown",
   "id": "55c4da07",
   "metadata": {
    "id": "55c4da07"
   },
   "source": [
    "### ① Titanic\n",
    "\n",
    "* 데이터셋 : titanic3\n",
    "* 설명 : NaN 조치된 Titanic\n",
    "* url : https://bit.ly/3HaMAtZ"
   ]
  },
  {
   "cell_type": "markdown",
   "id": "02cb5c6a",
   "metadata": {
    "id": "02cb5c6a"
   },
   "source": [
    "(1) 데이터를 불러와 봅시다."
   ]
  },
  {
   "cell_type": "code",
   "execution_count": 5,
   "id": "b11eb6a1",
   "metadata": {
    "colab": {
     "base_uri": "https://localhost:8080/"
    },
    "executionInfo": {
     "elapsed": 374,
     "status": "ok",
     "timestamp": 1641000102258,
     "user": {
      "displayName": "한기영",
      "photoUrl": "https://lh3.googleusercontent.com/a/default-user=s64",
      "userId": "13049187003176135487"
     },
     "user_tz": -540
    },
    "id": "b11eb6a1",
    "outputId": "c6cbec5e-4076-404e-cdbc-38a73d5df91e"
   },
   "outputs": [
    {
     "data": {
      "text/html": [
       "<div>\n",
       "<style scoped>\n",
       "    .dataframe tbody tr th:only-of-type {\n",
       "        vertical-align: middle;\n",
       "    }\n",
       "\n",
       "    .dataframe tbody tr th {\n",
       "        vertical-align: top;\n",
       "    }\n",
       "\n",
       "    .dataframe thead th {\n",
       "        text-align: right;\n",
       "    }\n",
       "</style>\n",
       "<table border=\"1\" class=\"dataframe\">\n",
       "  <thead>\n",
       "    <tr style=\"text-align: right;\">\n",
       "      <th></th>\n",
       "      <th>Survived</th>\n",
       "      <th>Pclass</th>\n",
       "      <th>Sex</th>\n",
       "      <th>Age</th>\n",
       "      <th>SibSp</th>\n",
       "      <th>Parch</th>\n",
       "      <th>Fare</th>\n",
       "      <th>Embarked</th>\n",
       "      <th>AgeGroup</th>\n",
       "      <th>Family</th>\n",
       "      <th>Age_scale1</th>\n",
       "    </tr>\n",
       "  </thead>\n",
       "  <tbody>\n",
       "    <tr>\n",
       "      <th>0</th>\n",
       "      <td>0</td>\n",
       "      <td>3</td>\n",
       "      <td>male</td>\n",
       "      <td>22.0</td>\n",
       "      <td>1</td>\n",
       "      <td>0</td>\n",
       "      <td>7.2500</td>\n",
       "      <td>S</td>\n",
       "      <td>Age21_30</td>\n",
       "      <td>2</td>\n",
       "      <td>0.271174</td>\n",
       "    </tr>\n",
       "    <tr>\n",
       "      <th>1</th>\n",
       "      <td>1</td>\n",
       "      <td>1</td>\n",
       "      <td>female</td>\n",
       "      <td>38.0</td>\n",
       "      <td>1</td>\n",
       "      <td>0</td>\n",
       "      <td>71.2833</td>\n",
       "      <td>C</td>\n",
       "      <td>Age31_40</td>\n",
       "      <td>2</td>\n",
       "      <td>0.472229</td>\n",
       "    </tr>\n",
       "    <tr>\n",
       "      <th>2</th>\n",
       "      <td>1</td>\n",
       "      <td>3</td>\n",
       "      <td>female</td>\n",
       "      <td>26.0</td>\n",
       "      <td>0</td>\n",
       "      <td>0</td>\n",
       "      <td>7.9250</td>\n",
       "      <td>S</td>\n",
       "      <td>Age21_30</td>\n",
       "      <td>1</td>\n",
       "      <td>0.321438</td>\n",
       "    </tr>\n",
       "    <tr>\n",
       "      <th>3</th>\n",
       "      <td>1</td>\n",
       "      <td>1</td>\n",
       "      <td>female</td>\n",
       "      <td>35.0</td>\n",
       "      <td>1</td>\n",
       "      <td>0</td>\n",
       "      <td>53.1000</td>\n",
       "      <td>S</td>\n",
       "      <td>Age31_40</td>\n",
       "      <td>2</td>\n",
       "      <td>0.434531</td>\n",
       "    </tr>\n",
       "    <tr>\n",
       "      <th>4</th>\n",
       "      <td>0</td>\n",
       "      <td>3</td>\n",
       "      <td>male</td>\n",
       "      <td>35.0</td>\n",
       "      <td>0</td>\n",
       "      <td>0</td>\n",
       "      <td>8.0500</td>\n",
       "      <td>S</td>\n",
       "      <td>Age31_40</td>\n",
       "      <td>1</td>\n",
       "      <td>0.434531</td>\n",
       "    </tr>\n",
       "  </tbody>\n",
       "</table>\n",
       "</div>"
      ],
      "text/plain": [
       "   Survived  Pclass     Sex   Age  SibSp  Parch     Fare Embarked  AgeGroup  \\\n",
       "0         0       3    male  22.0      1      0   7.2500        S  Age21_30   \n",
       "1         1       1  female  38.0      1      0  71.2833        C  Age31_40   \n",
       "2         1       3  female  26.0      0      0   7.9250        S  Age21_30   \n",
       "3         1       1  female  35.0      1      0  53.1000        S  Age31_40   \n",
       "4         0       3    male  35.0      0      0   8.0500        S  Age31_40   \n",
       "\n",
       "   Family  Age_scale1  \n",
       "0       2    0.271174  \n",
       "1       2    0.472229  \n",
       "2       1    0.321438  \n",
       "3       2    0.434531  \n",
       "4       1    0.434531  "
      ]
     },
     "execution_count": 5,
     "metadata": {},
     "output_type": "execute_result"
    }
   ],
   "source": [
    "path = 'https://bit.ly/3HaMAtZ'\n",
    "df = pd.read_csv(path)\n",
    "df.head(5)\n"
   ]
  },
  {
   "cell_type": "markdown",
   "id": "a4116c3a",
   "metadata": {
    "id": "a4116c3a"
   },
   "source": [
    "(2) 티켓 클래스(Pclass)의 범주별 빈도수와 범주별 비율을 구하시오."
   ]
  },
  {
   "cell_type": "code",
   "execution_count": 6,
   "id": "546e8742",
   "metadata": {
    "colab": {
     "base_uri": "https://localhost:8080/"
    },
    "executionInfo": {
     "elapsed": 431,
     "status": "ok",
     "timestamp": 1641000106104,
     "user": {
      "displayName": "한기영",
      "photoUrl": "https://lh3.googleusercontent.com/a/default-user=s64",
      "userId": "13049187003176135487"
     },
     "user_tz": -540
    },
    "id": "546e8742",
    "outputId": "05fbf93c-932e-4e8d-dbde-9d890102c5af"
   },
   "outputs": [
    {
     "name": "stdout",
     "output_type": "stream",
     "text": [
      "3    491\n",
      "1    216\n",
      "2    184\n",
      "Name: Pclass, dtype: int64\n",
      "3    0.551066\n",
      "1    0.242424\n",
      "2    0.206510\n",
      "Name: Pclass, dtype: float64\n"
     ]
    }
   ],
   "source": [
    "print(df['Pclass'].value_counts())\n",
    "print(df['Pclass'].value_counts()/len(df['Pclass']))"
   ]
  },
  {
   "cell_type": "markdown",
   "id": "CmskYZoeR_qi",
   "metadata": {
    "id": "CmskYZoeR_qi"
   },
   "source": [
    "### ② Diamond\n",
    "\n",
    "* 데이터셋 : diamond\n",
    "* 설명 : 다이아몬드 가격\n",
    "* url : https://bit.ly/3eHdRrH"
   ]
  },
  {
   "cell_type": "markdown",
   "id": "jXgQLmo7R_qk",
   "metadata": {
    "id": "jXgQLmo7R_qk"
   },
   "source": [
    "(1) 데이터를 불러와 봅시다."
   ]
  },
  {
   "cell_type": "code",
   "execution_count": 7,
   "id": "j7kQuTvkR_qk",
   "metadata": {
    "colab": {
     "base_uri": "https://localhost:8080/"
    },
    "executionInfo": {
     "elapsed": 515,
     "status": "ok",
     "timestamp": 1641001058142,
     "user": {
      "displayName": "한기영",
      "photoUrl": "https://lh3.googleusercontent.com/a/default-user=s64",
      "userId": "13049187003176135487"
     },
     "user_tz": -540
    },
    "id": "j7kQuTvkR_qk",
    "outputId": "a504b967-be66-42a9-d42f-03b74017c79c"
   },
   "outputs": [
    {
     "data": {
      "text/html": [
       "<div>\n",
       "<style scoped>\n",
       "    .dataframe tbody tr th:only-of-type {\n",
       "        vertical-align: middle;\n",
       "    }\n",
       "\n",
       "    .dataframe tbody tr th {\n",
       "        vertical-align: top;\n",
       "    }\n",
       "\n",
       "    .dataframe thead th {\n",
       "        text-align: right;\n",
       "    }\n",
       "</style>\n",
       "<table border=\"1\" class=\"dataframe\">\n",
       "  <thead>\n",
       "    <tr style=\"text-align: right;\">\n",
       "      <th></th>\n",
       "      <th>carat</th>\n",
       "      <th>cut</th>\n",
       "      <th>color</th>\n",
       "      <th>clarity</th>\n",
       "      <th>depth</th>\n",
       "      <th>table</th>\n",
       "      <th>price</th>\n",
       "      <th>x</th>\n",
       "      <th>y</th>\n",
       "      <th>z</th>\n",
       "    </tr>\n",
       "  </thead>\n",
       "  <tbody>\n",
       "    <tr>\n",
       "      <th>0</th>\n",
       "      <td>0.23</td>\n",
       "      <td>Ideal</td>\n",
       "      <td>E</td>\n",
       "      <td>SI2</td>\n",
       "      <td>61.5</td>\n",
       "      <td>55.0</td>\n",
       "      <td>326</td>\n",
       "      <td>3.95</td>\n",
       "      <td>3.98</td>\n",
       "      <td>2.43</td>\n",
       "    </tr>\n",
       "    <tr>\n",
       "      <th>1</th>\n",
       "      <td>0.21</td>\n",
       "      <td>Premium</td>\n",
       "      <td>E</td>\n",
       "      <td>SI1</td>\n",
       "      <td>59.8</td>\n",
       "      <td>61.0</td>\n",
       "      <td>326</td>\n",
       "      <td>3.89</td>\n",
       "      <td>3.84</td>\n",
       "      <td>2.31</td>\n",
       "    </tr>\n",
       "    <tr>\n",
       "      <th>2</th>\n",
       "      <td>0.23</td>\n",
       "      <td>Good</td>\n",
       "      <td>E</td>\n",
       "      <td>VS1</td>\n",
       "      <td>56.9</td>\n",
       "      <td>65.0</td>\n",
       "      <td>327</td>\n",
       "      <td>4.05</td>\n",
       "      <td>4.07</td>\n",
       "      <td>2.31</td>\n",
       "    </tr>\n",
       "    <tr>\n",
       "      <th>3</th>\n",
       "      <td>0.29</td>\n",
       "      <td>Premium</td>\n",
       "      <td>I</td>\n",
       "      <td>VS2</td>\n",
       "      <td>62.4</td>\n",
       "      <td>58.0</td>\n",
       "      <td>334</td>\n",
       "      <td>4.20</td>\n",
       "      <td>4.23</td>\n",
       "      <td>2.63</td>\n",
       "    </tr>\n",
       "    <tr>\n",
       "      <th>4</th>\n",
       "      <td>0.31</td>\n",
       "      <td>Good</td>\n",
       "      <td>J</td>\n",
       "      <td>SI2</td>\n",
       "      <td>63.3</td>\n",
       "      <td>58.0</td>\n",
       "      <td>335</td>\n",
       "      <td>4.34</td>\n",
       "      <td>4.35</td>\n",
       "      <td>2.75</td>\n",
       "    </tr>\n",
       "  </tbody>\n",
       "</table>\n",
       "</div>"
      ],
      "text/plain": [
       "   carat      cut color clarity  depth  table  price     x     y     z\n",
       "0   0.23    Ideal     E     SI2   61.5   55.0    326  3.95  3.98  2.43\n",
       "1   0.21  Premium     E     SI1   59.8   61.0    326  3.89  3.84  2.31\n",
       "2   0.23     Good     E     VS1   56.9   65.0    327  4.05  4.07  2.31\n",
       "3   0.29  Premium     I     VS2   62.4   58.0    334  4.20  4.23  2.63\n",
       "4   0.31     Good     J     SI2   63.3   58.0    335  4.34  4.35  2.75"
      ]
     },
     "execution_count": 7,
     "metadata": {},
     "output_type": "execute_result"
    }
   ],
   "source": [
    "path = 'https://bit.ly/3eHdRrH'\n",
    "df2 = pd.read_csv(path)\n",
    "df2.head(5)"
   ]
  },
  {
   "cell_type": "markdown",
   "id": "mnBhCY3OR_qm",
   "metadata": {
    "id": "mnBhCY3OR_qm"
   },
   "source": [
    "(2) color의 범주별 빈도수와 범주별 비율을 구하시오."
   ]
  },
  {
   "cell_type": "code",
   "execution_count": 8,
   "id": "ano1cF3PR_qm",
   "metadata": {
    "colab": {
     "base_uri": "https://localhost:8080/"
    },
    "executionInfo": {
     "elapsed": 545,
     "status": "ok",
     "timestamp": 1641001110174,
     "user": {
      "displayName": "한기영",
      "photoUrl": "https://lh3.googleusercontent.com/a/default-user=s64",
      "userId": "13049187003176135487"
     },
     "user_tz": -540
    },
    "id": "ano1cF3PR_qm",
    "outputId": "555e3b5a-ab93-4410-8ba0-0b6fd035883c"
   },
   "outputs": [
    {
     "name": "stdout",
     "output_type": "stream",
     "text": [
      "G    11292\n",
      "E     9797\n",
      "F     9542\n",
      "H     8304\n",
      "D     6775\n",
      "I     5422\n",
      "J     2808\n",
      "Name: color, dtype: int64\n",
      "G    0.209344\n",
      "E    0.181628\n",
      "F    0.176900\n",
      "H    0.153949\n",
      "D    0.125603\n",
      "I    0.100519\n",
      "J    0.052058\n",
      "Name: color, dtype: float64\n"
     ]
    }
   ],
   "source": [
    "print(df2['color'].value_counts())\n",
    "print(df2['color'].value_counts()/len(df2['color']))"
   ]
  },
  {
   "cell_type": "markdown",
   "id": "6063f49d",
   "metadata": {
    "id": "6063f49d"
   },
   "source": [
    "(3) 가공품질(cut)의 범주별 빈도수와 범주별 비율을 구하시오."
   ]
  },
  {
   "cell_type": "code",
   "execution_count": 9,
   "id": "56e1a09b",
   "metadata": {
    "colab": {
     "base_uri": "https://localhost:8080/"
    },
    "executionInfo": {
     "elapsed": 421,
     "status": "ok",
     "timestamp": 1641001181648,
     "user": {
      "displayName": "한기영",
      "photoUrl": "https://lh3.googleusercontent.com/a/default-user=s64",
      "userId": "13049187003176135487"
     },
     "user_tz": -540
    },
    "id": "56e1a09b",
    "outputId": "7cc7c0e7-e587-49ca-defd-6c449ea3e92a",
    "scrolled": false
   },
   "outputs": [
    {
     "name": "stdout",
     "output_type": "stream",
     "text": [
      "Ideal        21551\n",
      "Premium      13791\n",
      "Very Good    12082\n",
      "Good          4906\n",
      "Fair          1610\n",
      "Name: cut, dtype: int64\n",
      "Ideal        0.399537\n",
      "Premium      0.255673\n",
      "Very Good    0.223990\n",
      "Good         0.090953\n",
      "Fair         0.029848\n",
      "Name: cut, dtype: float64\n"
     ]
    }
   ],
   "source": [
    "print(df2['cut'].value_counts())\n",
    "print(df2['cut'].value_counts()/len(df2['cut']))"
   ]
  },
  {
   "cell_type": "markdown",
   "id": "40e930da",
   "metadata": {
    "id": "40e930da"
   },
   "source": [
    "## 3) 범주형 변수의 시각화 - bar chart"
   ]
  },
  {
   "cell_type": "markdown",
   "id": "65aa998a",
   "metadata": {
    "id": "65aa998a"
   },
   "source": [
    "① 다음의 조건에 맞게 bar chart를 그려 봅시다.\n",
    "* 범주 이름: gender = ['F', 'M']\n",
    "* 값: cnt = [6, 5]"
   ]
  },
  {
   "cell_type": "code",
   "execution_count": 11,
   "id": "f10505a1",
   "metadata": {
    "id": "f10505a1",
    "outputId": "b9fa224e-4cfe-4fc6-e1a0-3b9ba21e1e98",
    "scrolled": true
   },
   "outputs": [
    {
     "data": {
      "image/png": "[encoded data removed]",
      "text/plain": [
       "<Figure size 432x288 with 1 Axes>"
      ]
     },
     "metadata": {
      "needs_background": "light"
     },
     "output_type": "display_data"
    }
   ],
   "source": [
    "import matplotlib.pyplot as plt\n",
    "\n",
    "gender = ['F', 'M']\n",
    "cnt = [6,5]\n",
    "\n",
    "plt.bar(gender, cnt)\n",
    "plt.show()"
   ]
  },
  {
   "cell_type": "markdown",
   "id": "4b4a6f02",
   "metadata": {
    "id": "4b4a6f02"
   },
   "source": [
    "② 다음의 조건에 맞게 bar chart를 그려 봅시다.\n",
    "* 범주 이름: gender = ['F', 'M']\n",
    "* 값: cnt = [6, 5]\n",
    "* 수평 막대 그래프"
   ]
  },
  {
   "cell_type": "code",
   "execution_count": 12,
   "id": "2ad85f4c",
   "metadata": {
    "id": "2ad85f4c",
    "outputId": "448f6515-425e-43b4-8a8a-826f2cc38547",
    "scrolled": true
   },
   "outputs": [
    {
     "data": {
      "image/png": "[encoded data removed]",
      "text/plain": [
       "<Figure size 432x288 with 1 Axes>"
      ]
     },
     "metadata": {
      "needs_background": "light"
     },
     "output_type": "display_data"
    }
   ],
   "source": [
    "plt.barh(gender, cnt)\n",
    "plt.show()"
   ]
  },
  {
   "cell_type": "markdown",
   "id": "db790756",
   "metadata": {
    "id": "db790756"
   },
   "source": [
    "③ 성별 데이터가 아래와 같을 때, value_counts()를 사용하여 빈도수를 집계하고 주어진 결과에 맞게 bar chart를 그리시오.\n",
    "* gender = ['F','M','F','F','F','M','F','M','M']"
   ]
  },
  {
   "cell_type": "code",
   "execution_count": 13,
   "id": "31fe64b5",
   "metadata": {
    "id": "31fe64b5",
    "outputId": "af00c782-2219-4170-87f8-69e1e26c951b",
    "scrolled": true
   },
   "outputs": [
    {
     "name": "stdout",
     "output_type": "stream",
     "text": [
      "F    5\n",
      "M    4\n",
      "dtype: int64\n"
     ]
    },
    {
     "data": {
      "image/png": "[encoded data removed]",
      "text/plain": [
       "<Figure size 432x288 with 1 Axes>"
      ]
     },
     "metadata": {
      "needs_background": "light"
     },
     "output_type": "display_data"
    }
   ],
   "source": [
    "gender = ['F','M','F','F','F','M','F','M','M']\n",
    "gender = pd.Series(gender)\n",
    "print(gender.value_counts())\n",
    "\n",
    "import matplotlib.pyplot as plt\n",
    "\n",
    "plt.barh(gender.values, gender.index)\n",
    "plt.show()"
   ]
  },
  {
   "cell_type": "markdown",
   "id": "357a3ccf",
   "metadata": {
    "id": "357a3ccf"
   },
   "source": [
    "④ ①에서 만든 그래프를 주어진 결과에 맞게 수정해 봅시다.\n",
    "* width: 0.3"
   ]
  },
  {
   "cell_type": "code",
   "execution_count": 16,
   "id": "30d4b37c",
   "metadata": {
    "id": "30d4b37c",
    "outputId": "d1d3b95e-d223-4e0e-9b5b-d589adbfe387"
   },
   "outputs": [
    {
     "data": {
      "image/png": "[encoded data removed]",
      "text/plain": [
       "<Figure size 432x288 with 1 Axes>"
      ]
     },
     "metadata": {
      "needs_background": "light"
     },
     "output_type": "display_data"
    }
   ],
   "source": [
    "gender = ['F', 'M']\n",
    "cnt = [6,5]\n",
    "\n",
    "plt.bar(gender, cnt, color = ['g','r'], width = .3)\n",
    "plt.show()"
   ]
  },
  {
   "cell_type": "markdown",
   "id": "e126e0d9",
   "metadata": {
    "id": "e126e0d9"
   },
   "source": [
    "## 4) 범주형 변수의 시각화 - pie chart"
   ]
  },
  {
   "cell_type": "markdown",
   "id": "5bdd5798",
   "metadata": {
    "id": "5bdd5798"
   },
   "source": [
    "① 성별 데이터가 아래와 같을 때, value_counts()를 사용하여 빈도수를 집계하고 주어진 결과에 맞게 pie chart를 그리시오.\n",
    "* gender = ['F','M','F','F','F','M','F','M','M']"
   ]
  },
  {
   "cell_type": "code",
   "execution_count": 17,
   "id": "c5705d10",
   "metadata": {
    "id": "c5705d10",
    "outputId": "18c3ce04-0af6-4086-ddbb-4766cba90f39"
   },
   "outputs": [
    {
     "data": {
      "image/png": "[encoded data removed]",
      "text/plain": [
       "<Figure size 432x288 with 1 Axes>"
      ]
     },
     "metadata": {},
     "output_type": "display_data"
    }
   ],
   "source": [
    "gender = ['F','M','F','F','F','M','F','M','M']\n",
    "gender = pd.Series(gender)\n",
    "\n",
    "cnt = gender.value_counts()\n",
    "\n",
    "plt.pie(cnt.values, labels=cnt.index, autopct='%.2f%%', startangle = 90, counterclock = False)\n",
    "plt.show()"
   ]
  },
  {
   "cell_type": "markdown",
   "id": "0c46cfb5",
   "metadata": {
    "id": "0c46cfb5"
   },
   "source": [
    "② ①에서 만들었던 그래프를 주어진 결과에 맞게 수정해 봅시다.\n",
    "* 90도부터 시작\n",
    "* 시계 방향으로\n",
    "* 중심으로부터 F, M을 각각 0.05만큼 띄움\n",
    "* 그림자 추가"
   ]
  },
  {
   "cell_type": "code",
   "execution_count": 20,
   "id": "c48c9c1e",
   "metadata": {
    "id": "c48c9c1e",
    "outputId": "66737541-c4a8-4471-d913-fa69ea050a77"
   },
   "outputs": [
    {
     "data": {
      "image/png": "[encoded data removed]",
      "text/plain": [
       "<Figure size 432x288 with 1 Axes>"
      ]
     },
     "metadata": {},
     "output_type": "display_data"
    }
   ],
   "source": [
    "gender = ['F','M','F','F','F','M','F','M','M']\n",
    "gender = pd.Series(gender)\n",
    "\n",
    "cnt = gender.value_counts()\n",
    "\n",
    "plt.pie(cnt.values, labels = cnt.index, autopct = '%.2f%%', \n",
    "        startangle=90, counterclock=False, \n",
    "        explode = [0.05, 0.05], shadow=True)\n",
    "plt.savefig('a.png')"
   ]
  },
  {
   "cell_type": "markdown",
   "id": "87b880af",
   "metadata": {
    "id": "87b880af"
   },
   "source": [
    "## 5) 데이터 프레임으로부터 범주형 변수의 시각화"
   ]
  },
  {
   "cell_type": "markdown",
   "id": "JhHZqwDPSzQC",
   "metadata": {
    "id": "JhHZqwDPSzQC"
   },
   "source": [
    "### ① Titanic\n",
    "\n",
    "* 데이터셋 : titanic3\n",
    "* 설명 : NaN 조치된 Titanic\n",
    "* url : https://bit.ly/3HaMAtZ"
   ]
  },
  {
   "cell_type": "markdown",
   "id": "c60cf35b",
   "metadata": {
    "id": "c60cf35b"
   },
   "source": [
    "(1) 티켓 클래스(Pclass)의 범주별 빈도수를 구하고 bar chart와 pie chart를 주어진 결과에 맞게 그리시오."
   ]
  },
  {
   "cell_type": "code",
   "execution_count": 21,
   "id": "9b306c84",
   "metadata": {
    "colab": {
     "base_uri": "https://localhost:8080/",
     "height": 265
    },
    "executionInfo": {
     "elapsed": 1839,
     "status": "ok",
     "timestamp": 1641000141152,
     "user": {
      "displayName": "한기영",
      "photoUrl": "https://lh3.googleusercontent.com/a/default-user=s64",
      "userId": "13049187003176135487"
     },
     "user_tz": -540
    },
    "id": "9b306c84",
    "outputId": "b378e489-8b86-447f-ddab-80d4761e7e5f"
   },
   "outputs": [
    {
     "data": {
      "image/png": "[encoded data removed]",
      "text/plain": [
       "<Figure size 432x288 with 2 Axes>"
      ]
     },
     "metadata": {
      "needs_background": "light"
     },
     "output_type": "display_data"
    }
   ],
   "source": [
    "pclass = df['Pclass'].value_counts()\n",
    "\n",
    "plt.subplot(121)\n",
    "plt.bar(pclass.index, pclass.values)\n",
    "plt.text(pclass.index[0] - .1 ,pclass.values[0], pclass.values[0])\n",
    "plt.text(pclass.index[1] - .1 ,pclass.values[1], pclass.values[1])\n",
    "plt.text(pclass.index[2] - .1 ,pclass.values[2], pclass.values[2])\n",
    "\n",
    "plt.subplot(122)\n",
    "plt.pie(pclass.values, labels=pclass.index, autopct = '%.2f%%')\n",
    "plt.show()"
   ]
  },
  {
   "cell_type": "markdown",
   "id": "XqnYRQ8dE-fP",
   "metadata": {
    "id": "XqnYRQ8dE-fP"
   },
   "source": [
    "## (2) 분포로 부터 알수 있는 것은?"
   ]
  },
  {
   "cell_type": "markdown",
   "id": "9tM9J4GtFBwG",
   "metadata": {
    "id": "9tM9J4GtFBwG"
   },
   "source": []
  },
  {
   "cell_type": "markdown",
   "id": "rTGCL4LgFBou",
   "metadata": {
    "id": "rTGCL4LgFBou"
   },
   "source": [
    "추가로 더 분석해볼 만한 내용은?"
   ]
  },
  {
   "cell_type": "markdown",
   "id": "ysvKo-qTFBgH",
   "metadata": {
    "id": "ysvKo-qTFBgH"
   },
   "source": []
  },
  {
   "cell_type": "markdown",
   "id": "p6OyNInLTDYk",
   "metadata": {
    "id": "p6OyNInLTDYk"
   },
   "source": [
    "### ② Diamond\n",
    "\n",
    "* 데이터셋 : diamond\n",
    "* 설명 : 다이아몬드 가격\n",
    "* url : https://bit.ly/3eHdRrH"
   ]
  },
  {
   "cell_type": "markdown",
   "id": "PbRzMOPwS6gE",
   "metadata": {
    "id": "PbRzMOPwS6gE"
   },
   "source": [
    "(1) 가공품질(cut)의 범주별 빈도수를 구하고 bar chart와 pie chart를 주어진 결과에 맞게 그리시오."
   ]
  },
  {
   "cell_type": "code",
   "execution_count": 22,
   "id": "LlUtvTTYS6gF",
   "metadata": {
    "colab": {
     "base_uri": "https://localhost:8080/",
     "height": 308
    },
    "executionInfo": {
     "elapsed": 1298,
     "status": "ok",
     "timestamp": 1641001370897,
     "user": {
      "displayName": "한기영",
      "photoUrl": "https://lh3.googleusercontent.com/a/default-user=s64",
      "userId": "13049187003176135487"
     },
     "user_tz": -540
    },
    "id": "LlUtvTTYS6gF",
    "outputId": "c8f47f99-e158-4061-ea92-dbcc91746f39"
   },
   "outputs": [
    {
     "data": {
      "image/png": "[encoded data removed]",
      "text/plain": [
       "<Figure size 432x288 with 2 Axes>"
      ]
     },
     "metadata": {
      "needs_background": "light"
     },
     "output_type": "display_data"
    }
   ],
   "source": [
    "cut = df2['cut'].value_counts()\n",
    "\n",
    "plt.subplot(121)\n",
    "plt.bar(cut.index, cut.values)\n",
    "plt.xticks(rotation=45)\n",
    "plt.text(cut.index[0], cut.values[0], cut.values[0])\n",
    "plt.text(cut.index[1], cut.values[1], cut.values[1])\n",
    "plt.text(cut.index[2], cut.values[2], cut.values[2])\n",
    "plt.text(cut.index[3], cut.values[3], cut.values[3])\n",
    "plt.text(cut.index[4], cut.values[4], cut.values[4])\n",
    "\n",
    "plt.subplot(122)\n",
    "plt.pie(cut.values, labels=cut.index, autopct = '%.2f%%')\n",
    "plt.show()"
   ]
  },
  {
   "cell_type": "markdown",
   "id": "4WyrSfqWS6gH",
   "metadata": {
    "id": "4WyrSfqWS6gH"
   },
   "source": [
    "(2) 분포로 부터 알수 있는 것은?"
   ]
  },
  {
   "cell_type": "markdown",
   "id": "bmcn6AUXS6gH",
   "metadata": {
    "id": "bmcn6AUXS6gH"
   },
   "source": [
    "- cut의 상태가 좋은 다이아몬드의 개수가 가장 많으며 품질이 떨어질수록 가격도 떨어진다."
   ]
  },
  {
   "cell_type": "markdown",
   "id": "JYDRjr8DS6gH",
   "metadata": {
    "id": "JYDRjr8DS6gH"
   },
   "source": [
    "추가로 더 분석해볼 만한 내용은?"
   ]
  },
  {
   "cell_type": "markdown",
   "id": "WUkPOtyqS6gH",
   "metadata": {
    "id": "WUkPOtyqS6gH"
   },
   "source": [
    "- cut 이외의 다이아몬드 가격에 영향을 주는 요인을 조사해보겠다."
   ]
  },
  {
   "cell_type": "code",
   "execution_count": null,
   "id": "f14ed4d3",
   "metadata": {},
   "outputs": [],
   "source": []
  }
 ],
 "metadata": {
  "colab": {
   "collapsed_sections": [],
   "name": "05과 [실습] 개별 변수 분석하기 범주형 변수.ipynb",
   "provenance": [],
   "toc_visible": true
  },
  "kernelspec": {
   "display_name": "Python 3",
   "language": "python",
   "name": "python3"
  },
  "language_info": {
   "codemirror_mode": {
    "name": "ipython",
    "version": 3
   },
   "file_extension": ".py",
   "mimetype": "text/x-python",
   "name": "python",
   "nbconvert_exporter": "python",
   "pygments_lexer": "ipython3",
   "version": "3.8.8"
  }
 },
 "nbformat": 4,
 "nbformat_minor": 5
}
