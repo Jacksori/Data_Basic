{
 "cells": [
  {
   "cell_type": "markdown",
   "id": "45c8f0d1",
   "metadata": {
    "id": "45c8f0d1"
   },
   "source": [
    "# chapter 4. 개별 변수 분석하기 숫자형 변수 - 시각화"
   ]
  },
  {
   "cell_type": "markdown",
   "id": "c895baa8",
   "metadata": {
    "id": "c895baa8"
   },
   "source": [
    "## 1) 히스토그램"
   ]
  },
  {
   "cell_type": "markdown",
   "id": "9ae176cc",
   "metadata": {
    "id": "9ae176cc"
   },
   "source": [
    "① 아래와 같은 총 21개의 값이 있다고 할 때, 히스토그램을 그리시오.\n",
    "* 1, 2, 3, 3, 4, 4, 4, 5, 6, 7, 8, 9, 10, 11, 15, 17, 17, 19, 20, 25, 30  \n",
    "* 구간의 개수: 5, edgecolor: grey"
   ]
  },
  {
   "cell_type": "code",
   "execution_count": 1,
   "id": "c5478d2a",
   "metadata": {
    "colab": {
     "base_uri": "https://localhost:8080/",
     "height": 265
    },
    "executionInfo": {
     "elapsed": 397,
     "status": "ok",
     "timestamp": 1640852500602,
     "user": {
      "displayName": "한기영",
      "photoUrl": "https://lh3.googleusercontent.com/a/default-user=s64",
      "userId": "13049187003176135487"
     },
     "user_tz": -540
    },
    "id": "c5478d2a",
    "outputId": "3519688b-466e-4b9b-ae4d-d6233f5399e8"
   },
   "outputs": [
    {
     "data": {
      "text/plain": [
       "(array([9., 5., 3., 2., 2.]),\n",
       " array([ 1. ,  6.8, 12.6, 18.4, 24.2, 30. ]),\n",
       " <BarContainer object of 5 artists>)"
      ]
     },
     "execution_count": 1,
     "metadata": {},
     "output_type": "execute_result"
    },
    {
     "data": {
      "image/png": "[encoded data removed]",
      "text/plain": [
       "<Figure size 432x288 with 1 Axes>"
      ]
     },
     "metadata": {
      "needs_background": "light"
     },
     "output_type": "display_data"
    }
   ],
   "source": [
    "import matplotlib.pyplot as plt\n",
    "\n",
    "array = [1, 2, 3, 3, 4, 4, 4, 5, 6, 7, 8, 9, 10, 11, 15, 17, 17, 19, 20, 25, 30]\n",
    "\n",
    "plt.hist(array, bins = 5, edgecolor = 'gray')"
   ]
  },
  {
   "cell_type": "markdown",
   "id": "82f57ee9",
   "metadata": {
    "id": "82f57ee9"
   },
   "source": [
    "② 아래와 같은 총 15개의 값이 있다고 할 때, 히스토그램을 그리시오.\n",
    "* 3, 4, 5, 5, 6, 6, 6, 8, 8, 9, 11, 12, 12, 13, 14\n",
    "* 구간의 개수: 4 , color: green, edgecolor: orange"
   ]
  },
  {
   "cell_type": "code",
   "execution_count": 2,
   "id": "26f601c7",
   "metadata": {
    "colab": {
     "base_uri": "https://localhost:8080/",
     "height": 265
    },
    "executionInfo": {
     "elapsed": 426,
     "status": "ok",
     "timestamp": 1640852501019,
     "user": {
      "displayName": "한기영",
      "photoUrl": "https://lh3.googleusercontent.com/a/default-user=s64",
      "userId": "13049187003176135487"
     },
     "user_tz": -540
    },
    "id": "26f601c7",
    "outputId": "b6a4c8ac-6365-4ee9-ec57-8c126bcc8247"
   },
   "outputs": [
    {
     "data": {
      "image/png": "[encoded data removed]",
      "text/plain": [
       "<Figure size 432x288 with 1 Axes>"
      ]
     },
     "metadata": {
      "needs_background": "light"
     },
     "output_type": "display_data"
    }
   ],
   "source": [
    "array = [3, 4, 5, 5, 6, 6, 6, 8, 8, 9, 11, 12, 12, 13, 14]\n",
    "plt.hist(array, bins=4, color='green', edgecolor='orange')\n",
    "plt.show()"
   ]
  },
  {
   "cell_type": "markdown",
   "id": "352b2603",
   "metadata": {
    "id": "352b2603"
   },
   "source": [
    "③ 고객의 나이 정보 age가 아래와 같을 때, 히스토그램을 그리고 결과를 저장하여 구간과 빈도수를 확인하시오.\n",
    "*  age = [19, 20, 23, 46, 21, 25, 26, 25, 28, 31, 37, 24, 28, 34, 38, 33, 32, 29, 27, 24]\n",
    "* 구간의 개수: 6, edgecolor: grey"
   ]
  },
  {
   "cell_type": "code",
   "execution_count": 3,
   "id": "496c089b",
   "metadata": {
    "colab": {
     "base_uri": "https://localhost:8080/",
     "height": 338
    },
    "executionInfo": {
     "elapsed": 1163,
     "status": "ok",
     "timestamp": 1641009721016,
     "user": {
      "displayName": "한기영",
      "photoUrl": "https://lh3.googleusercontent.com/a/default-user=s64",
      "userId": "13049187003176135487"
     },
     "user_tz": -540
    },
    "id": "496c089b",
    "outputId": "882feb21-9d50-4e48-cb87-3e4f6b269dd5",
    "scrolled": true
   },
   "outputs": [
    {
     "data": {
      "image/png": "[encoded data removed]",
      "text/plain": [
       "<Figure size 432x288 with 1 Axes>"
      ]
     },
     "metadata": {
      "needs_background": "light"
     },
     "output_type": "display_data"
    }
   ],
   "source": [
    "age = [19, 20, 23, 46, 21, 25, 26, 25, 28, 31, 37, 24, 28, 34, 38, 33, 32, 29, 27, 24]\n",
    "plt.hist(age, bins=6, edgecolor='grey')\n",
    "plt.show()"
   ]
  },
  {
   "cell_type": "markdown",
   "id": "7e258ec6",
   "metadata": {
    "id": "7e258ec6"
   },
   "source": [
    "④ 몸무게 데이터 weight가 아래와 같을 때, 히스토그램을 그리고 결과를 저장하여 구간과 빈도수를 확인하시오.\n",
    "* weight = [68, 81, 64, 56, 78, 74, 61, 77, 66, 68, 59, 71, 80, 59, 67, 81, 69, 73, 69, 74, 70, 65]\n",
    "* 구간의 개수: 10, color: pink, edgecolor: white"
   ]
  },
  {
   "cell_type": "code",
   "execution_count": 4,
   "id": "2bde231e",
   "metadata": {
    "colab": {
     "base_uri": "https://localhost:8080/",
     "height": 338
    },
    "executionInfo": {
     "elapsed": 901,
     "status": "ok",
     "timestamp": 1641009743866,
     "user": {
      "displayName": "한기영",
      "photoUrl": "https://lh3.googleusercontent.com/a/default-user=s64",
      "userId": "13049187003176135487"
     },
     "user_tz": -540
    },
    "id": "2bde231e",
    "outputId": "e22d6561-df9c-42e4-96b9-c2bbad02219f"
   },
   "outputs": [
    {
     "data": {
      "image/png": "[encoded data removed]",
      "text/plain": [
       "<Figure size 432x288 with 1 Axes>"
      ]
     },
     "metadata": {
      "needs_background": "light"
     },
     "output_type": "display_data"
    }
   ],
   "source": [
    "weight = [68, 81, 64, 56, 78, 74, 61, 77, 66, 68, 59, 71, 80, 59, 67, 81, 69, 73, 69, 74, 70, 65]\n",
    "plt.hist(weight,bins=10,color='pink', edgecolor='white')\n",
    "plt.show()"
   ]
  },
  {
   "cell_type": "markdown",
   "id": "a54a8fdd",
   "metadata": {
    "id": "a54a8fdd"
   },
   "source": [
    "## 2) 밀도함수 그래프"
   ]
  },
  {
   "cell_type": "markdown",
   "id": "f2a520f6",
   "metadata": {
    "id": "f2a520f6"
   },
   "source": [
    "① 고객의 나이 정보 age가 아래와 같을 때, 밀도함수 그래프를 그리시오.\n",
    "*  age = [19, 20, 23, 46, 21, 25, 26, 25, 28, 31, 37, 24, 28, 34, 38, 33, 32, 29, 27, 24]"
   ]
  },
  {
   "cell_type": "code",
   "execution_count": 5,
   "id": "502c44f8",
   "metadata": {
    "colab": {
     "base_uri": "https://localhost:8080/",
     "height": 265
    },
    "executionInfo": {
     "elapsed": 915,
     "status": "ok",
     "timestamp": 1640852501930,
     "user": {
      "displayName": "한기영",
      "photoUrl": "https://lh3.googleusercontent.com/a/default-user=s64",
      "userId": "13049187003176135487"
     },
     "user_tz": -540
    },
    "id": "502c44f8",
    "outputId": "031f8912-967a-4d32-ee68-b892ddfc0113"
   },
   "outputs": [
    {
     "data": {
      "image/png": "[encoded data removed]",
      "text/plain": [
       "<Figure size 432x288 with 1 Axes>"
      ]
     },
     "metadata": {
      "needs_background": "light"
     },
     "output_type": "display_data"
    }
   ],
   "source": [
    "import pandas as pd\n",
    "age = [19,20,23,46,21,25,26,25,28,31,37,24,28,34,38,33,32,29,27,24]\n",
    "age = pd.Series(age)\n",
    "age.plot(kind = 'kde')\n",
    "plt.show()"
   ]
  },
  {
   "cell_type": "markdown",
   "id": "df62af60",
   "metadata": {
    "id": "df62af60"
   },
   "source": [
    "② 몸무게 데이터 weight가 아래와 같을 때, 밀도함수 그래프를 그리시오.\n",
    "* weight = [68, 81, 64, 56, 78, 74, 61, 77, 66, 68, 59, 71, 80, 59, 67, 81, 69, 73, 69, 74, 70, 65]\n",
    "* color: green"
   ]
  },
  {
   "cell_type": "code",
   "execution_count": 6,
   "id": "eba76ccf",
   "metadata": {
    "colab": {
     "base_uri": "https://localhost:8080/",
     "height": 268
    },
    "executionInfo": {
     "elapsed": 17,
     "status": "ok",
     "timestamp": 1640852501931,
     "user": {
      "displayName": "한기영",
      "photoUrl": "https://lh3.googleusercontent.com/a/default-user=s64",
      "userId": "13049187003176135487"
     },
     "user_tz": -540
    },
    "id": "eba76ccf",
    "outputId": "9221207c-0190-4a11-aa1b-c66456300dae"
   },
   "outputs": [
    {
     "data": {
      "image/png": "[encoded data removed]",
      "text/plain": [
       "<Figure size 432x288 with 1 Axes>"
      ]
     },
     "metadata": {
      "needs_background": "light"
     },
     "output_type": "display_data"
    }
   ],
   "source": [
    "weight = [68, 81, 64, 56, 78, 74, 61, 77, 66, 68, 59, 71, 80, 59, 67, 81, 69, 73, 69, 74, 70, 65]\n",
    "weight = pd.Series(weight)\n",
    "weight.plot(kind='kde')\n",
    "plt.show()"
   ]
  },
  {
   "cell_type": "markdown",
   "id": "4f012064",
   "metadata": {
    "id": "4f012064"
   },
   "source": [
    "## 3) Boxplot"
   ]
  },
  {
   "cell_type": "markdown",
   "id": "5d18f2f0",
   "metadata": {
    "id": "5d18f2f0"
   },
   "source": [
    "① 고객의 나이 정보 age가 아래와 같을 때, 박스플롯을 세로로 그리고 결과를 저장, 아래/위 수염의 min, max를 구해 봅시다.  \n",
    "*  age = [19, 20, 23, 46, 21, 25, 26, 25, 28, 31, 37, 24, 28, 34, 38, 33, 32, 29, 27, 24]"
   ]
  },
  {
   "cell_type": "code",
   "execution_count": 7,
   "id": "39fe2880",
   "metadata": {
    "colab": {
     "base_uri": "https://localhost:8080/",
     "height": 320
    },
    "executionInfo": {
     "elapsed": 352,
     "status": "ok",
     "timestamp": 1641009794694,
     "user": {
      "displayName": "한기영",
      "photoUrl": "https://lh3.googleusercontent.com/a/default-user=s64",
      "userId": "13049187003176135487"
     },
     "user_tz": -540
    },
    "id": "39fe2880",
    "outputId": "0ff18eff-f724-4d79-d6ec-64b8a7faae64"
   },
   "outputs": [
    {
     "data": {
      "image/png": "[encoded data removed]",
      "text/plain": [
       "<Figure size 432x288 with 1 Axes>"
      ]
     },
     "metadata": {
      "needs_background": "light"
     },
     "output_type": "display_data"
    },
    {
     "name": "stdout",
     "output_type": "stream",
     "text": [
      "[24. 19.]\n",
      "[32.25 38.  ]\n"
     ]
    },
    {
     "data": {
      "image/png": "[encoded data removed]",
      "text/plain": [
       "<Figure size 432x288 with 1 Axes>"
      ]
     },
     "metadata": {
      "needs_background": "light"
     },
     "output_type": "display_data"
    }
   ],
   "source": [
    "age = [19, 20, 23, 46, 21, 25, 26, 25, 28, 31, 37, 24, 28, 34, 38, 33, 32, 29, 27, 24]\n",
    "plt.boxplot(age)\n",
    "plt.show()\n",
    "\n",
    "box1 = plt.boxplot(age)\n",
    "print(box1['whiskers'][0].get_ydata()) # 아래쪽 수염의 max, min\n",
    "print(box1['whiskers'][1].get_ydata()) # 위쪽 수염의 min, max"
   ]
  },
  {
   "cell_type": "markdown",
   "id": "b36e8a63",
   "metadata": {
    "id": "b36e8a63"
   },
   "source": [
    "② 몸무게 데이터 weight가 아래와 같을 때, 박스플롯을 가로로 그리고 결과를 저장, 아래/위 수염의 min, max를 구해 봅시다.  \n",
    "* weight = [68, 81, 64, 56, 78, 74, 61, 77, 66, 68, 59, 71, 80, 59, 67, 81, 69, 73, 69, 74, 70, 65]"
   ]
  },
  {
   "cell_type": "code",
   "execution_count": 8,
   "id": "3fab7941",
   "metadata": {
    "colab": {
     "base_uri": "https://localhost:8080/",
     "height": 320
    },
    "executionInfo": {
     "elapsed": 855,
     "status": "ok",
     "timestamp": 1641009802441,
     "user": {
      "displayName": "한기영",
      "photoUrl": "https://lh3.googleusercontent.com/a/default-user=s64",
      "userId": "13049187003176135487"
     },
     "user_tz": -540
    },
    "id": "3fab7941",
    "outputId": "3b2856f0-ae75-4143-8de6-cd31b970472c"
   },
   "outputs": [
    {
     "data": {
      "image/png": "[encoded data removed]",
      "text/plain": [
       "<Figure size 432x288 with 1 Axes>"
      ]
     },
     "metadata": {
      "needs_background": "light"
     },
     "output_type": "display_data"
    },
    {
     "name": "stdout",
     "output_type": "stream",
     "text": [
      "[65.25 56.  ]\n",
      "[74. 81.]\n"
     ]
    },
    {
     "data": {
      "image/png": "[encoded data removed]",
      "text/plain": [
       "<Figure size 432x288 with 1 Axes>"
      ]
     },
     "metadata": {
      "needs_background": "light"
     },
     "output_type": "display_data"
    }
   ],
   "source": [
    "weight = [68, 81, 64, 56, 78, 74, 61, 77, 66, 68, 59, 71, 80, 59, 67, 81, 69, 73, 69, 74, 70, 65]\n",
    "plt.boxplot(weight)\n",
    "plt.show()\n",
    "\n",
    "box2 = plt.boxplot(weight)\n",
    "print(box2['whiskers'][0].get_ydata()) # 아래쪽 수염의 max, min\n",
    "print(box2['whiskers'][1].get_ydata()) # 위쪽 수염의 min, max"
   ]
  },
  {
   "cell_type": "markdown",
   "id": "e1517bc0",
   "metadata": {
    "id": "e1517bc0"
   },
   "source": [
    "## 4) 바이올린 플롯"
   ]
  },
  {
   "cell_type": "markdown",
   "id": "2ae7b591",
   "metadata": {
    "id": "2ae7b591"
   },
   "source": [
    "① 고객의 나이 정보 age가 아래와 같을 때, 바이올린 플롯을 가로로 그리고 평균값을 텍스트로 나타내시오.\n",
    "*  age = [19, 20, 23, 46, 21, 25, 26, 25, 28, 31, 37, 24, 28, 34, 38, 33, 32, 29, 27, 24]"
   ]
  },
  {
   "cell_type": "code",
   "execution_count": 9,
   "id": "8180ecdb",
   "metadata": {
    "colab": {
     "base_uri": "https://localhost:8080/",
     "height": 265
    },
    "executionInfo": {
     "elapsed": 13,
     "status": "ok",
     "timestamp": 1640852502349,
     "user": {
      "displayName": "한기영",
      "photoUrl": "https://lh3.googleusercontent.com/a/default-user=s64",
      "userId": "13049187003176135487"
     },
     "user_tz": -540
    },
    "id": "8180ecdb",
    "outputId": "e318b1c0-0d04-4ca8-cf50-285f29f87b36"
   },
   "outputs": [
    {
     "data": {
      "image/png": "[encoded data removed]",
      "text/plain": [
       "<Figure size 432x288 with 1 Axes>"
      ]
     },
     "metadata": {
      "needs_background": "light"
     },
     "output_type": "display_data"
    }
   ],
   "source": [
    "import numpy as np\n",
    "\n",
    "age = [19, 20, 23, 46, 21, 25, 26, 25, 28, 31, 37, 24, 28, 34, 38, 33, 32, 29, 27, 24]\n",
    "avg = np.mean(age)\n",
    "\n",
    "plt.violinplot(age, vert = False, showmeans=True)\n",
    "plt.text( avg - 1, 0.85 , avg)\n",
    "plt.show()"
   ]
  },
  {
   "cell_type": "markdown",
   "id": "609b16a4",
   "metadata": {
    "id": "609b16a4"
   },
   "source": [
    "② 몸무게 데이터 weight가 아래와 같을 때, 바이올린 플롯을 세로로 그리고 평균값을 텍스트로 나타내시오.\n",
    "* weight = [68, 81, 64, 56, 78, 74, 61, 77, 66, 68, 59, 71, 80, 59, 67, 81, 69, 73, 69, 74, 70, 65]"
   ]
  },
  {
   "cell_type": "code",
   "execution_count": 10,
   "id": "002506db",
   "metadata": {
    "colab": {
     "base_uri": "https://localhost:8080/",
     "height": 265
    },
    "executionInfo": {
     "elapsed": 422,
     "status": "ok",
     "timestamp": 1640852502759,
     "user": {
      "displayName": "한기영",
      "photoUrl": "https://lh3.googleusercontent.com/a/default-user=s64",
      "userId": "13049187003176135487"
     },
     "user_tz": -540
    },
    "id": "002506db",
    "outputId": "ee75e962-edd8-437d-bbf8-ac103f67b252"
   },
   "outputs": [
    {
     "data": {
      "image/png": "[encoded data removed]",
      "text/plain": [
       "<Figure size 432x288 with 1 Axes>"
      ]
     },
     "metadata": {
      "needs_background": "light"
     },
     "output_type": "display_data"
    }
   ],
   "source": [
    "weight = [68, 81, 64, 56, 78, 74, 61, 77, 66, 68, 59, 71, 80, 59, 67, 81, 69, 73, 69, 74, 70, 65]\n",
    "avg = np.mean(weight)\n",
    "\n",
    "plt.violinplot(age, vert = False, showmeans=True)\n",
    "plt.text( 25, 0.85 , avg)\n",
    "plt.show()"
   ]
  },
  {
   "cell_type": "markdown",
   "id": "ac29a1fd",
   "metadata": {
    "id": "ac29a1fd"
   },
   "source": [
    "## 5) 그래프 비교하기"
   ]
  },
  {
   "cell_type": "markdown",
   "id": "4ef7d7bb",
   "metadata": {
    "id": "4ef7d7bb"
   },
   "source": [
    "① 고객의 나이 정보 age의 값들을 활용하여 앞에서 다루었던 네 가지 그래프(히스토그램, 밀도 함수 그래프, 박스플롯, 바이올린 플롯)을 주어진 결과에 맞게 한꺼번에 그리고 비교해 봅시다.\n",
    "* age = [19,20,23,46,21,25,26,25,28,31,37,24,28,34,38,33,32,29,27,24]\n",
    "* 힌트: subplot() 사용"
   ]
  },
  {
   "cell_type": "code",
   "execution_count": 11,
   "id": "0fa89783",
   "metadata": {
    "colab": {
     "base_uri": "https://localhost:8080/",
     "height": 265
    },
    "executionInfo": {
     "elapsed": 422,
     "status": "ok",
     "timestamp": 1640852503173,
     "user": {
      "displayName": "한기영",
      "photoUrl": "https://lh3.googleusercontent.com/a/default-user=s64",
      "userId": "13049187003176135487"
     },
     "user_tz": -540
    },
    "id": "0fa89783",
    "outputId": "3bc448d6-9c98-4060-f685-bf7d8db185ab"
   },
   "outputs": [
    {
     "data": {
      "image/png": "[encoded data removed]",
      "text/plain": [
       "<Figure size 432x288 with 4 Axes>"
      ]
     },
     "metadata": {
      "needs_background": "light"
     },
     "output_type": "display_data"
    }
   ],
   "source": [
    "age = [19,20,23,46,21,25,26,25,28,31,37,24,28,34,38,33,32,29,27,24]\n",
    "\n",
    "plt.subplot(2,2,1)\n",
    "plt.hist(age, bins = 8, edgecolor = 'grey')\n",
    "\n",
    "plt.subplot(2,2,2)\n",
    "plt.boxplot(age, vert = False)\n",
    "\n",
    "plt.subplot(2,2,3)\n",
    "pd.Series(age).plot(kind = 'kde')\n",
    "\n",
    "plt.subplot(2,2,4)\n",
    "plt.violinplot(age, vert = False, showmeans=True)\n",
    "avg = np.mean(age)\n",
    "plt.text(avg, 1.1, round(avg, 2))\n",
    "\n",
    "plt.show()"
   ]
  },
  {
   "cell_type": "markdown",
   "id": "86e2e466",
   "metadata": {
    "id": "86e2e466"
   },
   "source": [
    "② 몸무게 데이터 weight를 활용하여 앞에서 다루었던 네 가지 그래프(히스토그램, 밀도 함수 그래프, 박스플롯, 바이올린 플롯)을 주어진 결과에 맞게 한꺼번에 그리고 비교해 봅시다.\n",
    "* weight = [68, 81, 64, 56, 78, 74, 61, 77, 66, 68, 59, 71, 80, 59, 67, 81, 69, 73, 69, 74, 70, 65]\n",
    "* 힌트: subplot() 사용"
   ]
  },
  {
   "cell_type": "code",
   "execution_count": 12,
   "id": "5b3c9a82",
   "metadata": {
    "colab": {
     "base_uri": "https://localhost:8080/",
     "height": 265
    },
    "executionInfo": {
     "elapsed": 434,
     "status": "ok",
     "timestamp": 1640852503598,
     "user": {
      "displayName": "한기영",
      "photoUrl": "https://lh3.googleusercontent.com/a/default-user=s64",
      "userId": "13049187003176135487"
     },
     "user_tz": -540
    },
    "id": "5b3c9a82",
    "outputId": "ca5600c7-a563-4f66-eb4a-6646dc61ef3e"
   },
   "outputs": [
    {
     "data": {
      "image/png": "[encoded data removed]",
      "text/plain": [
       "<Figure size 432x288 with 4 Axes>"
      ]
     },
     "metadata": {
      "needs_background": "light"
     },
     "output_type": "display_data"
    }
   ],
   "source": [
    "weight = [68, 81, 64, 56, 78, 74, 61, 77, 66, 68, 59, 71, 80, 59, 67, 81, 69, 73, 69, 74, 70, 65]\n",
    "\n",
    "plt.subplot(2,2,1)\n",
    "plt.hist(weight, bins = 8, edgecolor = 'grey')\n",
    "\n",
    "plt.subplot(2,2,2)\n",
    "plt.boxplot(weight, vert = False)\n",
    "\n",
    "plt.subplot(2,2,3)\n",
    "pd.Series(weight).plot(kind = 'kde')\n",
    "\n",
    "plt.subplot(2,2,4)\n",
    "plt.violinplot(weight, vert = False, showmeans=True)\n",
    "avg = np.mean(weight)\n",
    "plt.text(avg, 1.1, round(avg, 2))\n",
    "plt.show()"
   ]
  },
  {
   "cell_type": "markdown",
   "id": "551065fe",
   "metadata": {
    "id": "551065fe"
   },
   "source": [
    "## 6) 데이터 프레임의 숫자형 변수 시각화"
   ]
  },
  {
   "cell_type": "markdown",
   "id": "e0e4d4ad",
   "metadata": {
    "id": "e0e4d4ad"
   },
   "source": [
    "### ① Titanic\n",
    "\n",
    "* 데이터셋 : titanic3\n",
    "* 설명 : NaN 조치된 Titanic\n",
    "* url : https://bit.ly/3HaMAtZ"
   ]
  },
  {
   "cell_type": "markdown",
   "id": "b5c0833d",
   "metadata": {
    "id": "b5c0833d"
   },
   "source": [
    "(1) 데이터를 불러와서 상위 5개 행을 조회하시오."
   ]
  },
  {
   "cell_type": "code",
   "execution_count": 13,
   "id": "a7f8ecc4",
   "metadata": {
    "colab": {
     "base_uri": "https://localhost:8080/"
    },
    "executionInfo": {
     "elapsed": 418,
     "status": "ok",
     "timestamp": 1641000201152,
     "user": {
      "displayName": "한기영",
      "photoUrl": "https://lh3.googleusercontent.com/a/default-user=s64",
      "userId": "13049187003176135487"
     },
     "user_tz": -540
    },
    "id": "a7f8ecc4",
    "outputId": "34fd9c0a-c92f-4d28-91bb-fd2a70b7f21b",
    "scrolled": false
   },
   "outputs": [
    {
     "data": {
      "text/html": [
       "<div>\n",
       "<style scoped>\n",
       "    .dataframe tbody tr th:only-of-type {\n",
       "        vertical-align: middle;\n",
       "    }\n",
       "\n",
       "    .dataframe tbody tr th {\n",
       "        vertical-align: top;\n",
       "    }\n",
       "\n",
       "    .dataframe thead th {\n",
       "        text-align: right;\n",
       "    }\n",
       "</style>\n",
       "<table border=\"1\" class=\"dataframe\">\n",
       "  <thead>\n",
       "    <tr style=\"text-align: right;\">\n",
       "      <th></th>\n",
       "      <th>Survived</th>\n",
       "      <th>Pclass</th>\n",
       "      <th>Sex</th>\n",
       "      <th>Age</th>\n",
       "      <th>SibSp</th>\n",
       "      <th>Parch</th>\n",
       "      <th>Fare</th>\n",
       "      <th>Embarked</th>\n",
       "      <th>AgeGroup</th>\n",
       "      <th>Family</th>\n",
       "      <th>Age_scale1</th>\n",
       "    </tr>\n",
       "  </thead>\n",
       "  <tbody>\n",
       "    <tr>\n",
       "      <th>0</th>\n",
       "      <td>0</td>\n",
       "      <td>3</td>\n",
       "      <td>male</td>\n",
       "      <td>22.0</td>\n",
       "      <td>1</td>\n",
       "      <td>0</td>\n",
       "      <td>7.2500</td>\n",
       "      <td>S</td>\n",
       "      <td>Age21_30</td>\n",
       "      <td>2</td>\n",
       "      <td>0.271174</td>\n",
       "    </tr>\n",
       "    <tr>\n",
       "      <th>1</th>\n",
       "      <td>1</td>\n",
       "      <td>1</td>\n",
       "      <td>female</td>\n",
       "      <td>38.0</td>\n",
       "      <td>1</td>\n",
       "      <td>0</td>\n",
       "      <td>71.2833</td>\n",
       "      <td>C</td>\n",
       "      <td>Age31_40</td>\n",
       "      <td>2</td>\n",
       "      <td>0.472229</td>\n",
       "    </tr>\n",
       "    <tr>\n",
       "      <th>2</th>\n",
       "      <td>1</td>\n",
       "      <td>3</td>\n",
       "      <td>female</td>\n",
       "      <td>26.0</td>\n",
       "      <td>0</td>\n",
       "      <td>0</td>\n",
       "      <td>7.9250</td>\n",
       "      <td>S</td>\n",
       "      <td>Age21_30</td>\n",
       "      <td>1</td>\n",
       "      <td>0.321438</td>\n",
       "    </tr>\n",
       "    <tr>\n",
       "      <th>3</th>\n",
       "      <td>1</td>\n",
       "      <td>1</td>\n",
       "      <td>female</td>\n",
       "      <td>35.0</td>\n",
       "      <td>1</td>\n",
       "      <td>0</td>\n",
       "      <td>53.1000</td>\n",
       "      <td>S</td>\n",
       "      <td>Age31_40</td>\n",
       "      <td>2</td>\n",
       "      <td>0.434531</td>\n",
       "    </tr>\n",
       "    <tr>\n",
       "      <th>4</th>\n",
       "      <td>0</td>\n",
       "      <td>3</td>\n",
       "      <td>male</td>\n",
       "      <td>35.0</td>\n",
       "      <td>0</td>\n",
       "      <td>0</td>\n",
       "      <td>8.0500</td>\n",
       "      <td>S</td>\n",
       "      <td>Age31_40</td>\n",
       "      <td>1</td>\n",
       "      <td>0.434531</td>\n",
       "    </tr>\n",
       "  </tbody>\n",
       "</table>\n",
       "</div>"
      ],
      "text/plain": [
       "   Survived  Pclass     Sex   Age  SibSp  Parch     Fare Embarked  AgeGroup  \\\n",
       "0         0       3    male  22.0      1      0   7.2500        S  Age21_30   \n",
       "1         1       1  female  38.0      1      0  71.2833        C  Age31_40   \n",
       "2         1       3  female  26.0      0      0   7.9250        S  Age21_30   \n",
       "3         1       1  female  35.0      1      0  53.1000        S  Age31_40   \n",
       "4         0       3    male  35.0      0      0   8.0500        S  Age31_40   \n",
       "\n",
       "   Family  Age_scale1  \n",
       "0       2    0.271174  \n",
       "1       2    0.472229  \n",
       "2       1    0.321438  \n",
       "3       2    0.434531  \n",
       "4       1    0.434531  "
      ]
     },
     "execution_count": 13,
     "metadata": {},
     "output_type": "execute_result"
    }
   ],
   "source": [
    "path = 'https://bit.ly/3HaMAtZ'\n",
    "df = pd.read_csv(path)\n",
    "\n",
    "df.head(5)"
   ]
  },
  {
   "cell_type": "markdown",
   "id": "ad040fa5",
   "metadata": {
    "id": "ad040fa5"
   },
   "source": [
    "(2) 나이(Age)의 분포를 확인하기 위한 히스토그램을 주어진 결과에 맞게 그리시오."
   ]
  },
  {
   "cell_type": "code",
   "execution_count": 14,
   "id": "246b74f6",
   "metadata": {
    "colab": {
     "base_uri": "https://localhost:8080/",
     "height": 265
    },
    "executionInfo": {
     "elapsed": 1133,
     "status": "ok",
     "timestamp": 1641000206273,
     "user": {
      "displayName": "한기영",
      "photoUrl": "https://lh3.googleusercontent.com/a/default-user=s64",
      "userId": "13049187003176135487"
     },
     "user_tz": -540
    },
    "id": "246b74f6",
    "outputId": "801d755a-d832-438d-c378-c84278c760b5"
   },
   "outputs": [
    {
     "data": {
      "image/png": "[encoded data removed]",
      "text/plain": [
       "<Figure size 432x288 with 1 Axes>"
      ]
     },
     "metadata": {
      "needs_background": "light"
     },
     "output_type": "display_data"
    }
   ],
   "source": [
    "plt.hist(df['Age'], bins=10, edgecolor = 'gray')\n",
    "plt.show()"
   ]
  },
  {
   "cell_type": "markdown",
   "id": "2ce1a167",
   "metadata": {
    "id": "2ce1a167"
   },
   "source": [
    "(3) 나이(Age)의 분포를 확인하기 위한 네 가지 그래프(히스토그램, 밀도 함수 그래프, 박스플롯, 바이올린 플롯)을 주어진 결과에 맞게 한꺼번에 그리고 비교해 봅시다."
   ]
  },
  {
   "cell_type": "code",
   "execution_count": 15,
   "id": "14f42b50",
   "metadata": {
    "colab": {
     "base_uri": "https://localhost:8080/",
     "height": 265
    },
    "executionInfo": {
     "elapsed": 2136,
     "status": "ok",
     "timestamp": 1640999897804,
     "user": {
      "displayName": "한기영",
      "photoUrl": "https://lh3.googleusercontent.com/a/default-user=s64",
      "userId": "13049187003176135487"
     },
     "user_tz": -540
    },
    "id": "14f42b50",
    "outputId": "8fcfe55b-a869-48c5-97d7-2076eaebb827"
   },
   "outputs": [
    {
     "data": {
      "text/plain": [
       "Text(21.75476992143658, 1.15, '29.75')"
      ]
     },
     "execution_count": 15,
     "metadata": {},
     "output_type": "execute_result"
    },
    {
     "data": {
      "image/png": "[encoded data removed]",
      "text/plain": [
       "<Figure size 720x720 with 4 Axes>"
      ]
     },
     "metadata": {
      "needs_background": "light"
     },
     "output_type": "display_data"
    }
   ],
   "source": [
    "plt.figure(figsize = (10,10))\n",
    "\n",
    "plt.subplot(2,2,1)\n",
    "plt.hist(df['Age'], bins = 8, edgecolor = 'grey')\n",
    "\n",
    "plt.subplot(2,2,2)\n",
    "plt.boxplot(df['Age'], vert = False)\n",
    "\n",
    "plt.subplot(2,2,3)\n",
    "df['Age'].plot(kind = 'kde')\n",
    "\n",
    "plt.subplot(2,2,4)\n",
    "plt.violinplot(df['Age'], vert = False, showmeans=True)\n",
    "avg = np.mean(df['Age'])\n",
    "plt.text(avg - 8, 1.15, round(avg, 2))"
   ]
  },
  {
   "cell_type": "markdown",
   "id": "ZrAaoil-EUjY",
   "metadata": {
    "id": "ZrAaoil-EUjY"
   },
   "source": [
    "(4) 위 분포로 부터 알수 있는 것은 무엇인가요?"
   ]
  },
  {
   "cell_type": "markdown",
   "id": "3552bce5",
   "metadata": {},
   "source": [
    "- boxplot으로 보아 타이타닉의 생존자들은 20-40대의 사람들이 가장 많다.\n",
    "- 그러나 kdeplot, histogram을 통해 0세 ~ 10대의 어린아이들이 많이 탄것또한 확인할 수 있다."
   ]
  },
  {
   "cell_type": "markdown",
   "id": "pvLzN604Em4f",
   "metadata": {
    "id": "pvLzN604Em4f"
   },
   "source": [
    "더 살펴보고 싶은 부분은 무엇인가요?"
   ]
  },
  {
   "cell_type": "markdown",
   "id": "W2sCFxPpEpql",
   "metadata": {
    "id": "W2sCFxPpEpql"
   },
   "source": [
    "- 왜 어린아이들의 비율이 높은지 궁금하다. 해당 지역에서의 가족의 구성 비율에 대해서 추가적인 조사가 필요하다."
   ]
  },
  {
   "cell_type": "markdown",
   "id": "41a7abf7",
   "metadata": {
    "id": "41a7abf7"
   },
   "source": [
    "### ② New York Air Quality\n",
    "\n",
    "* 데이터셋 : airquality\n",
    "* 설명 : 뉴욕 공기오염도\n",
    "* url : https://bit.ly/3qmthqZ"
   ]
  },
  {
   "cell_type": "markdown",
   "id": "c6763b01",
   "metadata": {
    "id": "c6763b01"
   },
   "source": [
    "(1) 데이터를 불러와서 상위 5개 행을 조회하시오."
   ]
  },
  {
   "cell_type": "code",
   "execution_count": 16,
   "id": "7373e5ce",
   "metadata": {
    "colab": {
     "base_uri": "https://localhost:8080/"
    },
    "executionInfo": {
     "elapsed": 323,
     "status": "ok",
     "timestamp": 1640999972569,
     "user": {
      "displayName": "한기영",
      "photoUrl": "https://lh3.googleusercontent.com/a/default-user=s64",
      "userId": "13049187003176135487"
     },
     "user_tz": -540
    },
    "id": "7373e5ce",
    "outputId": "8170f910-fd52-43a2-dfb2-9ddfbdc6be09",
    "scrolled": true
   },
   "outputs": [
    {
     "data": {
      "text/html": [
       "<div>\n",
       "<style scoped>\n",
       "    .dataframe tbody tr th:only-of-type {\n",
       "        vertical-align: middle;\n",
       "    }\n",
       "\n",
       "    .dataframe tbody tr th {\n",
       "        vertical-align: top;\n",
       "    }\n",
       "\n",
       "    .dataframe thead th {\n",
       "        text-align: right;\n",
       "    }\n",
       "</style>\n",
       "<table border=\"1\" class=\"dataframe\">\n",
       "  <thead>\n",
       "    <tr style=\"text-align: right;\">\n",
       "      <th></th>\n",
       "      <th>Ozone</th>\n",
       "      <th>Solar.R</th>\n",
       "      <th>Wind</th>\n",
       "      <th>Temp</th>\n",
       "      <th>Date</th>\n",
       "    </tr>\n",
       "  </thead>\n",
       "  <tbody>\n",
       "    <tr>\n",
       "      <th>0</th>\n",
       "      <td>41</td>\n",
       "      <td>190.0</td>\n",
       "      <td>7.4</td>\n",
       "      <td>67</td>\n",
       "      <td>1973-05-01</td>\n",
       "    </tr>\n",
       "    <tr>\n",
       "      <th>1</th>\n",
       "      <td>36</td>\n",
       "      <td>118.0</td>\n",
       "      <td>8.0</td>\n",
       "      <td>72</td>\n",
       "      <td>1973-05-02</td>\n",
       "    </tr>\n",
       "    <tr>\n",
       "      <th>2</th>\n",
       "      <td>12</td>\n",
       "      <td>149.0</td>\n",
       "      <td>12.6</td>\n",
       "      <td>74</td>\n",
       "      <td>1973-05-03</td>\n",
       "    </tr>\n",
       "    <tr>\n",
       "      <th>3</th>\n",
       "      <td>18</td>\n",
       "      <td>313.0</td>\n",
       "      <td>11.5</td>\n",
       "      <td>62</td>\n",
       "      <td>1973-05-04</td>\n",
       "    </tr>\n",
       "    <tr>\n",
       "      <th>4</th>\n",
       "      <td>19</td>\n",
       "      <td>NaN</td>\n",
       "      <td>14.3</td>\n",
       "      <td>56</td>\n",
       "      <td>1973-05-05</td>\n",
       "    </tr>\n",
       "  </tbody>\n",
       "</table>\n",
       "</div>"
      ],
      "text/plain": [
       "   Ozone  Solar.R  Wind  Temp        Date\n",
       "0     41    190.0   7.4    67  1973-05-01\n",
       "1     36    118.0   8.0    72  1973-05-02\n",
       "2     12    149.0  12.6    74  1973-05-03\n",
       "3     18    313.0  11.5    62  1973-05-04\n",
       "4     19      NaN  14.3    56  1973-05-05"
      ]
     },
     "execution_count": 16,
     "metadata": {},
     "output_type": "execute_result"
    }
   ],
   "source": [
    "path = 'https://bit.ly/3qmthqZ'\n",
    "airquality = pd.read_csv(path)\n",
    "\n",
    "airquality.head(5)"
   ]
  },
  {
   "cell_type": "markdown",
   "id": "2c7172a6",
   "metadata": {
    "id": "2c7172a6"
   },
   "source": [
    "(2) 풍량(Wind)의 분포를 확인하기 위한 히스토그램을 주어진 결과에 맞게 그리시오.\n",
    "* color: skyblue\n",
    "* edge color: white"
   ]
  },
  {
   "cell_type": "code",
   "execution_count": 17,
   "id": "c109d017",
   "metadata": {
    "colab": {
     "base_uri": "https://localhost:8080/",
     "height": 279
    },
    "executionInfo": {
     "elapsed": 1363,
     "status": "ok",
     "timestamp": 1640999936240,
     "user": {
      "displayName": "한기영",
      "photoUrl": "https://lh3.googleusercontent.com/a/default-user=s64",
      "userId": "13049187003176135487"
     },
     "user_tz": -540
    },
    "id": "c109d017",
    "outputId": "1c870022-a4a7-475f-df5f-98ee1a844ce2"
   },
   "outputs": [
    {
     "data": {
      "image/png": "[encoded data removed]",
      "text/plain": [
       "<Figure size 432x288 with 1 Axes>"
      ]
     },
     "metadata": {
      "needs_background": "light"
     },
     "output_type": "display_data"
    }
   ],
   "source": [
    "plt.hist(airquality['Wind'], bins=10, edgecolor = 'white', label='Wind', color='skyblue')\n",
    "plt.xlabel('Wind')\n",
    "plt.ylabel('Capacity')\n",
    "plt.legend()\n",
    "plt.show()"
   ]
  },
  {
   "cell_type": "markdown",
   "id": "d66d6e46",
   "metadata": {
    "id": "d66d6e46"
   },
   "source": [
    "(3) 풍량(wind)의 분포를 확인하기 위한 네 가지 그래프(히스토그램, 밀도 함수 그래프, 박스플롯, 바이올린 플롯)을 주어진 결과에 맞게 한꺼번에 그리고 비교해 봅시다."
   ]
  },
  {
   "cell_type": "code",
   "execution_count": 18,
   "id": "8b188d42",
   "metadata": {
    "colab": {
     "base_uri": "https://localhost:8080/",
     "height": 265
    },
    "executionInfo": {
     "elapsed": 1991,
     "status": "ok",
     "timestamp": 1640999959725,
     "user": {
      "displayName": "한기영",
      "photoUrl": "https://lh3.googleusercontent.com/a/default-user=s64",
      "userId": "13049187003176135487"
     },
     "user_tz": -540
    },
    "id": "8b188d42",
    "outputId": "d802e864-94d8-441f-fd72-3005b25b873d",
    "scrolled": true
   },
   "outputs": [
    {
     "data": {
      "image/png": "[encoded data removed]",
      "text/plain": [
       "<Figure size 432x288 with 4 Axes>"
      ]
     },
     "metadata": {
      "needs_background": "light"
     },
     "output_type": "display_data"
    }
   ],
   "source": [
    "plt.subplot(2,2,1)\n",
    "plt.hist(airquality['Wind'], bins = 15, edgecolor = 'grey')\n",
    "\n",
    "plt.subplot(2,2,2)\n",
    "plt.boxplot(airquality['Wind'], vert = False)\n",
    "\n",
    "plt.subplot(2,2,3)\n",
    "pd.Series(airquality['Wind']).plot(kind = 'kde')\n",
    "\n",
    "plt.subplot(2,2,4)\n",
    "plt.violinplot(airquality['Wind'], vert = False, showmeans=True)\n",
    "avg = np.mean(airquality['Wind'])\n",
    "plt.text(avg - 1.5, 1.15, round(avg, 2))\n",
    "plt.show()"
   ]
  },
  {
   "cell_type": "markdown",
   "id": "Pgdh7bcEEvSj",
   "metadata": {
    "id": "Pgdh7bcEEvSj"
   },
   "source": [
    "(4) 위 분포로 부터 알수 있는 것은 무엇인가요?"
   ]
  },
  {
   "cell_type": "markdown",
   "id": "NCyoC_qZEvSk",
   "metadata": {
    "id": "NCyoC_qZEvSk"
   },
   "source": [
    "- air의 wind의 분포도에 대해서 대략적으로 알 수 있다.\n",
    "- 대부분의 바람은 10 근처에서 형성이 되었다.\n",
    "- 평균의 바람은 9.96이며, 정규분포의 형상을 그린다."
   ]
  },
  {
   "cell_type": "markdown",
   "id": "wMLKUM26EvSl",
   "metadata": {
    "id": "wMLKUM26EvSl"
   },
   "source": [
    "더 살펴보고 싶은 부분은 무엇인가요?"
   ]
  },
  {
   "cell_type": "markdown",
   "id": "b4JcGP9EEvSm",
   "metadata": {
    "id": "b4JcGP9EEvSm"
   },
   "source": [
    "- 바람과 날씨의 연관성이 있는지 확인해보고 싶다.\n",
    "- 바람과 공기오염도의 연관성이 있는지 확인해보고 싶다."
   ]
  },
  {
   "cell_type": "code",
   "execution_count": null,
   "id": "613e48f7",
   "metadata": {},
   "outputs": [],
   "source": []
  }
 ],
 "metadata": {
  "colab": {
   "collapsed_sections": [],
   "name": "04과 [실습] 숫자형 변수 - 시각화.ipynb",
   "provenance": [],
   "toc_visible": true
  },
  "kernelspec": {
   "display_name": "Python 3",
   "language": "python",
   "name": "python3"
  },
  "language_info": {
   "codemirror_mode": {
    "name": "ipython",
    "version": 3
   },
   "file_extension": ".py",
   "mimetype": "text/x-python",
   "name": "python",
   "nbconvert_exporter": "python",
   "pygments_lexer": "ipython3",
   "version": "3.8.8"
  }
 },
 "nbformat": 4,
 "nbformat_minor": 5
}
